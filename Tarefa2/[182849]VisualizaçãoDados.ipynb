{
  "cells": [
    {
      "cell_type": "markdown",
      "metadata": {
        "id": "view-in-github",
        "colab_type": "text"
      },
      "source": [
        "<a href=\"https://colab.research.google.com/github/ingridapb/MO430/blob/main/Tarefa2/%5B182849%5DVisualiza%C3%A7%C3%A3oDados.ipynb\" target=\"_parent\"><img src=\"https://colab.research.google.com/assets/colab-badge.svg\" alt=\"Open In Colab\"/></a>"
      ]
    },
    {
      "cell_type": "markdown",
      "source": [
        "# **Tarefa 2 - Visualização de Dados**\n",
        "**MO430**\n",
        "\n",
        "---\n",
        "\n",
        "Ingrid Alves de Paiva Barbosa\n",
        "\n",
        "RA: 182849\n",
        "\n"
      ],
      "metadata": {
        "id": "OyDg_mkCf0IA"
      },
      "id": "OyDg_mkCf0IA"
    },
    {
      "cell_type": "markdown",
      "id": "ae3b917b",
      "metadata": {
        "id": "ae3b917b"
      },
      "source": [
        "# **O conjunto de dados escolhido**"
      ]
    },
    {
      "cell_type": "markdown",
      "id": "f164db9f",
      "metadata": {
        "id": "f164db9f"
      },
      "source": [
        "Este conjunto de dados apresenta informações relativas à brechas de segurança identificadas em entidades americanas, de 1997 à 2014. São apresentadas as seguintes informações sobre 1055 brechas:\n",
        "\n",
        "1. Nome da Entidade\n",
        "2. Estado\n",
        "3. Associado de negócio envolvido \n",
        "4. Número de pessoas afetadas \n",
        "5. Data da brecha\n",
        "6. Tipo de brecha\n",
        "7. Localização da brecha\n",
        "8. Data de divulgação\n",
        "9. Resumo\n",
        "10. Início da brecha\n",
        "11. Fim da brecha\n",
        "12. Ano\n",
        "\n",
        "Os dados foram extraídos da base Kagle, no link: https://www.kaggle.com/datasets/alukosayoenoch/cyber-security-breaches-data/code\n",
        "\n"
      ]
    },
    {
      "cell_type": "markdown",
      "id": "8501d156",
      "metadata": {
        "id": "8501d156"
      },
      "source": [
        "# Visualização de Dados"
      ]
    },
    {
      "cell_type": "markdown",
      "source": [
        "## Importando bibliotecas"
      ],
      "metadata": {
        "id": "mU8BhzmhuhNs"
      },
      "id": "mU8BhzmhuhNs"
    },
    {
      "cell_type": "code",
      "execution_count": 4,
      "id": "c9336bf3",
      "metadata": {
        "id": "c9336bf3"
      },
      "outputs": [],
      "source": [
        "import matplotlib.pyplot as plt\n",
        "import pandas as pd\n",
        "import numpy as np\n",
        "from datetime import datetime\n",
        "from datetime import date"
      ]
    },
    {
      "cell_type": "markdown",
      "id": "358e67f0",
      "metadata": {
        "id": "358e67f0"
      },
      "source": [
        "## Carregando o dataset usando Pandas"
      ]
    },
    {
      "cell_type": "code",
      "source": [
        "from google.colab import drive\n",
        "drive.mount('/content/drive')"
      ],
      "metadata": {
        "colab": {
          "base_uri": "https://localhost:8080/"
        },
        "id": "PBleeAj2F48O",
        "outputId": "fc24ab49-dc70-4831-b4fd-b8b79992a7cb"
      },
      "id": "PBleeAj2F48O",
      "execution_count": 5,
      "outputs": [
        {
          "output_type": "stream",
          "name": "stdout",
          "text": [
            "Drive already mounted at /content/drive; to attempt to forcibly remount, call drive.mount(\"/content/drive\", force_remount=True).\n"
          ]
        }
      ]
    },
    {
      "cell_type": "code",
      "execution_count": 6,
      "id": "bf86c6fd",
      "metadata": {
        "colab": {
          "base_uri": "https://localhost:8080/",
          "height": 922
        },
        "id": "bf86c6fd",
        "outputId": "477510d6-324a-4bca-b875-88142c5de554"
      },
      "outputs": [
        {
          "output_type": "execute_result",
          "data": {
            "text/plain": [
              "      Unnamed: 0  Number                             Name_of_Covered_Entity  \\\n",
              "0              1       0                         Brooke Army Medical Center   \n",
              "1              2       1          Mid America Kidney Stone Association, LLC   \n",
              "2              3       2    Alaska Department of Health and Social Services   \n",
              "3              4       3  Health Services for Children with Special Need...   \n",
              "4              5       4                           L. Douglas Carlson, M.D.   \n",
              "...          ...     ...                                                ...   \n",
              "1050        1051    1050                      Puerto Rico Health Insurance    \n",
              "1051        1052    1051                       Hospitalists of Brandon, LLC   \n",
              "1052        1053    1052                      Santa Rosa Memorial Hospital    \n",
              "1053        1054    1053         Group Health Plan of Hurley Medical Center   \n",
              "1054        1055    1054                            Abrham Tekola, M.D.,INC   \n",
              "\n",
              "     State          Business_Associate_Involved  Individuals_Affected  \\\n",
              "0       TX                                  NaN                  1000   \n",
              "1       MO                                  NaN                  1000   \n",
              "2       AK                                  NaN                   501   \n",
              "3       DC                                  NaN                  3800   \n",
              "4       CA                                  NaN                  5257   \n",
              "...    ...                                  ...                   ...   \n",
              "1050    PR                  American Health Inc                 28413   \n",
              "1051    FL  Doctors First Choice Billings, Inc.                  1831   \n",
              "1052    CA                                  NaN                 33702   \n",
              "1053    MI                                  NaN                  2289   \n",
              "1054    CA                                  NaN                  5471   \n",
              "\n",
              "     Date_of_Breach                  Type_of_Breach  \\\n",
              "0        10/16/2009                           Theft   \n",
              "1         9/22/2009                           Theft   \n",
              "2        10/12/2009                           Theft   \n",
              "3         10/9/2009                            Loss   \n",
              "4         9/27/2009                           Theft   \n",
              "...             ...                             ...   \n",
              "1050      9/20/2013                           Theft   \n",
              "1051      2/11/2014             Hacking/IT Incident   \n",
              "1052       6/2/2014                     Theft, Loss   \n",
              "1053      5/13/2014  Unauthorized Access/Disclosure   \n",
              "1054      5/27/2014                           Theft   \n",
              "\n",
              "             Location_of_Breached_Information Date_Posted_or_Updated  \\\n",
              "0                                       Paper             2014-06-30   \n",
              "1                              Network Server             2014-05-30   \n",
              "2     Other Portable Electronic Device, Other             2014-01-23   \n",
              "3                                      Laptop             2014-01-23   \n",
              "4                            Desktop Computer             2014-01-23   \n",
              "...                                       ...                    ...   \n",
              "1050                                    Other             2014-06-27   \n",
              "1051                                    Other             2014-06-27   \n",
              "1052         Other Portable Electronic Device             2014-06-27   \n",
              "1053                                   E-mail             2014-06-27   \n",
              "1054                         Desktop Computer             2014-06-27   \n",
              "\n",
              "                                                Summary breach_start  \\\n",
              "0     A binder containing the protected health infor...   2009-10-16   \n",
              "1     Five desktop computers containing unencrypted ...   2009-09-22   \n",
              "2                                                   NaN   2009-10-12   \n",
              "3     A laptop was lost by an employee while in tran...   2009-10-09   \n",
              "4     A shared Computer that was used for backup was...   2009-09-27   \n",
              "...                                                 ...          ...   \n",
              "1050                                                NaN   2013-09-20   \n",
              "1051                                                NaN   2014-02-11   \n",
              "1052                                                NaN   2014-06-02   \n",
              "1053                                                NaN   2014-05-13   \n",
              "1054                                                NaN   2014-05-27   \n",
              "\n",
              "     breach_end  year  \n",
              "0           NaN  2009  \n",
              "1           NaN  2009  \n",
              "2           NaN  2009  \n",
              "3           NaN  2009  \n",
              "4           NaN  2009  \n",
              "...         ...   ...  \n",
              "1050        NaN  2013  \n",
              "1051        NaN  2014  \n",
              "1052        NaN  2014  \n",
              "1053        NaN  2014  \n",
              "1054        NaN  2014  \n",
              "\n",
              "[1055 rows x 14 columns]"
            ],
            "text/html": [
              "\n",
              "  <div id=\"df-1220d77d-54e6-4547-9e71-9722977c181f\">\n",
              "    <div class=\"colab-df-container\">\n",
              "      <div>\n",
              "<style scoped>\n",
              "    .dataframe tbody tr th:only-of-type {\n",
              "        vertical-align: middle;\n",
              "    }\n",
              "\n",
              "    .dataframe tbody tr th {\n",
              "        vertical-align: top;\n",
              "    }\n",
              "\n",
              "    .dataframe thead th {\n",
              "        text-align: right;\n",
              "    }\n",
              "</style>\n",
              "<table border=\"1\" class=\"dataframe\">\n",
              "  <thead>\n",
              "    <tr style=\"text-align: right;\">\n",
              "      <th></th>\n",
              "      <th>Unnamed: 0</th>\n",
              "      <th>Number</th>\n",
              "      <th>Name_of_Covered_Entity</th>\n",
              "      <th>State</th>\n",
              "      <th>Business_Associate_Involved</th>\n",
              "      <th>Individuals_Affected</th>\n",
              "      <th>Date_of_Breach</th>\n",
              "      <th>Type_of_Breach</th>\n",
              "      <th>Location_of_Breached_Information</th>\n",
              "      <th>Date_Posted_or_Updated</th>\n",
              "      <th>Summary</th>\n",
              "      <th>breach_start</th>\n",
              "      <th>breach_end</th>\n",
              "      <th>year</th>\n",
              "    </tr>\n",
              "  </thead>\n",
              "  <tbody>\n",
              "    <tr>\n",
              "      <th>0</th>\n",
              "      <td>1</td>\n",
              "      <td>0</td>\n",
              "      <td>Brooke Army Medical Center</td>\n",
              "      <td>TX</td>\n",
              "      <td>NaN</td>\n",
              "      <td>1000</td>\n",
              "      <td>10/16/2009</td>\n",
              "      <td>Theft</td>\n",
              "      <td>Paper</td>\n",
              "      <td>2014-06-30</td>\n",
              "      <td>A binder containing the protected health infor...</td>\n",
              "      <td>2009-10-16</td>\n",
              "      <td>NaN</td>\n",
              "      <td>2009</td>\n",
              "    </tr>\n",
              "    <tr>\n",
              "      <th>1</th>\n",
              "      <td>2</td>\n",
              "      <td>1</td>\n",
              "      <td>Mid America Kidney Stone Association, LLC</td>\n",
              "      <td>MO</td>\n",
              "      <td>NaN</td>\n",
              "      <td>1000</td>\n",
              "      <td>9/22/2009</td>\n",
              "      <td>Theft</td>\n",
              "      <td>Network Server</td>\n",
              "      <td>2014-05-30</td>\n",
              "      <td>Five desktop computers containing unencrypted ...</td>\n",
              "      <td>2009-09-22</td>\n",
              "      <td>NaN</td>\n",
              "      <td>2009</td>\n",
              "    </tr>\n",
              "    <tr>\n",
              "      <th>2</th>\n",
              "      <td>3</td>\n",
              "      <td>2</td>\n",
              "      <td>Alaska Department of Health and Social Services</td>\n",
              "      <td>AK</td>\n",
              "      <td>NaN</td>\n",
              "      <td>501</td>\n",
              "      <td>10/12/2009</td>\n",
              "      <td>Theft</td>\n",
              "      <td>Other Portable Electronic Device, Other</td>\n",
              "      <td>2014-01-23</td>\n",
              "      <td>NaN</td>\n",
              "      <td>2009-10-12</td>\n",
              "      <td>NaN</td>\n",
              "      <td>2009</td>\n",
              "    </tr>\n",
              "    <tr>\n",
              "      <th>3</th>\n",
              "      <td>4</td>\n",
              "      <td>3</td>\n",
              "      <td>Health Services for Children with Special Need...</td>\n",
              "      <td>DC</td>\n",
              "      <td>NaN</td>\n",
              "      <td>3800</td>\n",
              "      <td>10/9/2009</td>\n",
              "      <td>Loss</td>\n",
              "      <td>Laptop</td>\n",
              "      <td>2014-01-23</td>\n",
              "      <td>A laptop was lost by an employee while in tran...</td>\n",
              "      <td>2009-10-09</td>\n",
              "      <td>NaN</td>\n",
              "      <td>2009</td>\n",
              "    </tr>\n",
              "    <tr>\n",
              "      <th>4</th>\n",
              "      <td>5</td>\n",
              "      <td>4</td>\n",
              "      <td>L. Douglas Carlson, M.D.</td>\n",
              "      <td>CA</td>\n",
              "      <td>NaN</td>\n",
              "      <td>5257</td>\n",
              "      <td>9/27/2009</td>\n",
              "      <td>Theft</td>\n",
              "      <td>Desktop Computer</td>\n",
              "      <td>2014-01-23</td>\n",
              "      <td>A shared Computer that was used for backup was...</td>\n",
              "      <td>2009-09-27</td>\n",
              "      <td>NaN</td>\n",
              "      <td>2009</td>\n",
              "    </tr>\n",
              "    <tr>\n",
              "      <th>...</th>\n",
              "      <td>...</td>\n",
              "      <td>...</td>\n",
              "      <td>...</td>\n",
              "      <td>...</td>\n",
              "      <td>...</td>\n",
              "      <td>...</td>\n",
              "      <td>...</td>\n",
              "      <td>...</td>\n",
              "      <td>...</td>\n",
              "      <td>...</td>\n",
              "      <td>...</td>\n",
              "      <td>...</td>\n",
              "      <td>...</td>\n",
              "      <td>...</td>\n",
              "    </tr>\n",
              "    <tr>\n",
              "      <th>1050</th>\n",
              "      <td>1051</td>\n",
              "      <td>1050</td>\n",
              "      <td>Puerto Rico Health Insurance</td>\n",
              "      <td>PR</td>\n",
              "      <td>American Health Inc</td>\n",
              "      <td>28413</td>\n",
              "      <td>9/20/2013</td>\n",
              "      <td>Theft</td>\n",
              "      <td>Other</td>\n",
              "      <td>2014-06-27</td>\n",
              "      <td>NaN</td>\n",
              "      <td>2013-09-20</td>\n",
              "      <td>NaN</td>\n",
              "      <td>2013</td>\n",
              "    </tr>\n",
              "    <tr>\n",
              "      <th>1051</th>\n",
              "      <td>1052</td>\n",
              "      <td>1051</td>\n",
              "      <td>Hospitalists of Brandon, LLC</td>\n",
              "      <td>FL</td>\n",
              "      <td>Doctors First Choice Billings, Inc.</td>\n",
              "      <td>1831</td>\n",
              "      <td>2/11/2014</td>\n",
              "      <td>Hacking/IT Incident</td>\n",
              "      <td>Other</td>\n",
              "      <td>2014-06-27</td>\n",
              "      <td>NaN</td>\n",
              "      <td>2014-02-11</td>\n",
              "      <td>NaN</td>\n",
              "      <td>2014</td>\n",
              "    </tr>\n",
              "    <tr>\n",
              "      <th>1052</th>\n",
              "      <td>1053</td>\n",
              "      <td>1052</td>\n",
              "      <td>Santa Rosa Memorial Hospital</td>\n",
              "      <td>CA</td>\n",
              "      <td>NaN</td>\n",
              "      <td>33702</td>\n",
              "      <td>6/2/2014</td>\n",
              "      <td>Theft, Loss</td>\n",
              "      <td>Other Portable Electronic Device</td>\n",
              "      <td>2014-06-27</td>\n",
              "      <td>NaN</td>\n",
              "      <td>2014-06-02</td>\n",
              "      <td>NaN</td>\n",
              "      <td>2014</td>\n",
              "    </tr>\n",
              "    <tr>\n",
              "      <th>1053</th>\n",
              "      <td>1054</td>\n",
              "      <td>1053</td>\n",
              "      <td>Group Health Plan of Hurley Medical Center</td>\n",
              "      <td>MI</td>\n",
              "      <td>NaN</td>\n",
              "      <td>2289</td>\n",
              "      <td>5/13/2014</td>\n",
              "      <td>Unauthorized Access/Disclosure</td>\n",
              "      <td>E-mail</td>\n",
              "      <td>2014-06-27</td>\n",
              "      <td>NaN</td>\n",
              "      <td>2014-05-13</td>\n",
              "      <td>NaN</td>\n",
              "      <td>2014</td>\n",
              "    </tr>\n",
              "    <tr>\n",
              "      <th>1054</th>\n",
              "      <td>1055</td>\n",
              "      <td>1054</td>\n",
              "      <td>Abrham Tekola, M.D.,INC</td>\n",
              "      <td>CA</td>\n",
              "      <td>NaN</td>\n",
              "      <td>5471</td>\n",
              "      <td>5/27/2014</td>\n",
              "      <td>Theft</td>\n",
              "      <td>Desktop Computer</td>\n",
              "      <td>2014-06-27</td>\n",
              "      <td>NaN</td>\n",
              "      <td>2014-05-27</td>\n",
              "      <td>NaN</td>\n",
              "      <td>2014</td>\n",
              "    </tr>\n",
              "  </tbody>\n",
              "</table>\n",
              "<p>1055 rows × 14 columns</p>\n",
              "</div>\n",
              "      <button class=\"colab-df-convert\" onclick=\"convertToInteractive('df-1220d77d-54e6-4547-9e71-9722977c181f')\"\n",
              "              title=\"Convert this dataframe to an interactive table.\"\n",
              "              style=\"display:none;\">\n",
              "        \n",
              "  <svg xmlns=\"http://www.w3.org/2000/svg\" height=\"24px\"viewBox=\"0 0 24 24\"\n",
              "       width=\"24px\">\n",
              "    <path d=\"M0 0h24v24H0V0z\" fill=\"none\"/>\n",
              "    <path d=\"M18.56 5.44l.94 2.06.94-2.06 2.06-.94-2.06-.94-.94-2.06-.94 2.06-2.06.94zm-11 1L8.5 8.5l.94-2.06 2.06-.94-2.06-.94L8.5 2.5l-.94 2.06-2.06.94zm10 10l.94 2.06.94-2.06 2.06-.94-2.06-.94-.94-2.06-.94 2.06-2.06.94z\"/><path d=\"M17.41 7.96l-1.37-1.37c-.4-.4-.92-.59-1.43-.59-.52 0-1.04.2-1.43.59L10.3 9.45l-7.72 7.72c-.78.78-.78 2.05 0 2.83L4 21.41c.39.39.9.59 1.41.59.51 0 1.02-.2 1.41-.59l7.78-7.78 2.81-2.81c.8-.78.8-2.07 0-2.86zM5.41 20L4 18.59l7.72-7.72 1.47 1.35L5.41 20z\"/>\n",
              "  </svg>\n",
              "      </button>\n",
              "      \n",
              "  <style>\n",
              "    .colab-df-container {\n",
              "      display:flex;\n",
              "      flex-wrap:wrap;\n",
              "      gap: 12px;\n",
              "    }\n",
              "\n",
              "    .colab-df-convert {\n",
              "      background-color: #E8F0FE;\n",
              "      border: none;\n",
              "      border-radius: 50%;\n",
              "      cursor: pointer;\n",
              "      display: none;\n",
              "      fill: #1967D2;\n",
              "      height: 32px;\n",
              "      padding: 0 0 0 0;\n",
              "      width: 32px;\n",
              "    }\n",
              "\n",
              "    .colab-df-convert:hover {\n",
              "      background-color: #E2EBFA;\n",
              "      box-shadow: 0px 1px 2px rgba(60, 64, 67, 0.3), 0px 1px 3px 1px rgba(60, 64, 67, 0.15);\n",
              "      fill: #174EA6;\n",
              "    }\n",
              "\n",
              "    [theme=dark] .colab-df-convert {\n",
              "      background-color: #3B4455;\n",
              "      fill: #D2E3FC;\n",
              "    }\n",
              "\n",
              "    [theme=dark] .colab-df-convert:hover {\n",
              "      background-color: #434B5C;\n",
              "      box-shadow: 0px 1px 3px 1px rgba(0, 0, 0, 0.15);\n",
              "      filter: drop-shadow(0px 1px 2px rgba(0, 0, 0, 0.3));\n",
              "      fill: #FFFFFF;\n",
              "    }\n",
              "  </style>\n",
              "\n",
              "      <script>\n",
              "        const buttonEl =\n",
              "          document.querySelector('#df-1220d77d-54e6-4547-9e71-9722977c181f button.colab-df-convert');\n",
              "        buttonEl.style.display =\n",
              "          google.colab.kernel.accessAllowed ? 'block' : 'none';\n",
              "\n",
              "        async function convertToInteractive(key) {\n",
              "          const element = document.querySelector('#df-1220d77d-54e6-4547-9e71-9722977c181f');\n",
              "          const dataTable =\n",
              "            await google.colab.kernel.invokeFunction('convertToInteractive',\n",
              "                                                     [key], {});\n",
              "          if (!dataTable) return;\n",
              "\n",
              "          const docLinkHtml = 'Like what you see? Visit the ' +\n",
              "            '<a target=\"_blank\" href=https://colab.research.google.com/notebooks/data_table.ipynb>data table notebook</a>'\n",
              "            + ' to learn more about interactive tables.';\n",
              "          element.innerHTML = '';\n",
              "          dataTable['output_type'] = 'display_data';\n",
              "          await google.colab.output.renderOutput(dataTable, element);\n",
              "          const docLink = document.createElement('div');\n",
              "          docLink.innerHTML = docLinkHtml;\n",
              "          element.appendChild(docLink);\n",
              "        }\n",
              "      </script>\n",
              "    </div>\n",
              "  </div>\n",
              "  "
            ]
          },
          "metadata": {},
          "execution_count": 6
        }
      ],
      "source": [
        "dataset = pd.read_csv('/content/drive/MyDrive/MO430/datasets/Cyber Security Breaches.csv') #trocar o caminho do arquivo\n",
        "dataset"
      ]
    },
    {
      "cell_type": "markdown",
      "id": "b8d11b1e",
      "metadata": {
        "id": "b8d11b1e"
      },
      "source": [
        "## Visualização textual"
      ]
    },
    {
      "cell_type": "code",
      "execution_count": 7,
      "id": "7c00b029",
      "metadata": {
        "colab": {
          "base_uri": "https://localhost:8080/"
        },
        "id": "7c00b029",
        "outputId": "d3f0e1b6-59e2-4884-87b5-acd0b63591c1"
      },
      "outputs": [
        {
          "output_type": "stream",
          "name": "stdout",
          "text": [
            "<class 'pandas.core.frame.DataFrame'>\n",
            "RangeIndex: 1055 entries, 0 to 1054\n",
            "Data columns (total 14 columns):\n",
            " #   Column                            Non-Null Count  Dtype \n",
            "---  ------                            --------------  ----- \n",
            " 0   Unnamed: 0                        1055 non-null   int64 \n",
            " 1   Number                            1055 non-null   int64 \n",
            " 2   Name_of_Covered_Entity            1055 non-null   object\n",
            " 3   State                             1055 non-null   object\n",
            " 4   Business_Associate_Involved       271 non-null    object\n",
            " 5   Individuals_Affected              1055 non-null   int64 \n",
            " 6   Date_of_Breach                    1055 non-null   object\n",
            " 7   Type_of_Breach                    1055 non-null   object\n",
            " 8   Location_of_Breached_Information  1055 non-null   object\n",
            " 9   Date_Posted_or_Updated            1055 non-null   object\n",
            " 10  Summary                           142 non-null    object\n",
            " 11  breach_start                      1055 non-null   object\n",
            " 12  breach_end                        145 non-null    object\n",
            " 13  year                              1055 non-null   int64 \n",
            "dtypes: int64(4), object(10)\n",
            "memory usage: 115.5+ KB\n"
          ]
        }
      ],
      "source": [
        "dataset.info()"
      ]
    },
    {
      "cell_type": "code",
      "source": [
        "dataset1 = dataset\n",
        "dataset2 = dataset\n",
        "dataset3 = dataset\n",
        "dataset4 = dataset\n",
        "dataset5 = dataset"
      ],
      "metadata": {
        "id": "enDyVY_nB05h"
      },
      "id": "enDyVY_nB05h",
      "execution_count": 8,
      "outputs": []
    },
    {
      "cell_type": "markdown",
      "id": "b0300727",
      "metadata": {
        "id": "b0300727"
      },
      "source": [
        "## Vizualização gráfica\n",
        "\n",
        "\n"
      ]
    },
    {
      "cell_type": "markdown",
      "source": [
        "### Gráfico de linha\n",
        "\n",
        "Vamos visualizar o número de pessoas afetadas em cada ano."
      ],
      "metadata": {
        "id": "2toY-kt_xLUq"
      },
      "id": "2toY-kt_xLUq"
    },
    {
      "cell_type": "code",
      "source": [
        "dataset1 = dataset1.groupby(['year']).agg({'Individuals_Affected':'sum'}).reset_index()"
      ],
      "metadata": {
        "id": "ZBsOViyw4mUi"
      },
      "id": "ZBsOViyw4mUi",
      "execution_count": 9,
      "outputs": []
    },
    {
      "cell_type": "code",
      "source": [
        "plt.plot(dataset1['year'], dataset1['Individuals_Affected'])\n",
        "plt.rcParams['figure.figsize'] = (15,6)\n",
        "plt.title('Pessoas afetadas por ano')\n",
        "plt.xlabel('ANO')\n",
        "plt.ylabel('PESSOAS AFETADAS')\n",
        "plt.xlim([1996.5, 2014.5])\n",
        "plt.scatter(dataset1['year'], dataset1['Individuals_Affected'], marker=\"*\", color='blue')\n",
        "plt.show()"
      ],
      "metadata": {
        "colab": {
          "base_uri": "https://localhost:8080/",
          "height": 295
        },
        "id": "r4PlkG4YwOqM",
        "outputId": "f3054156-46d6-426c-c1ac-85bb8fb78406"
      },
      "id": "r4PlkG4YwOqM",
      "execution_count": 10,
      "outputs": [
        {
          "output_type": "display_data",
          "data": {
            "text/plain": [
              "<Figure size 432x288 with 1 Axes>"
            ],
            "image/png": "[encoded data removed]"
          },
          "metadata": {
            "needs_background": "light"
          }
        }
      ]
    },
    {
      "cell_type": "markdown",
      "source": [
        "Como pode-se observar no gráfico, não houverão brechas identificadas entre 1998 e 2004, em 2006 e em 2007. Houve um pequeno valor em 2005, e de 2008 em diante os valores cresceram exponencialmente, alcançando o pico em 2011, e tendo um segundo pico em 2013."
      ],
      "metadata": {
        "id": "2cAsU42cG9No"
      },
      "id": "2cAsU42cG9No"
    },
    {
      "cell_type": "markdown",
      "source": [
        "### Gráfico de barras\n",
        "\n",
        "Vamos visualizar o número de pessoas afetadas por estado"
      ],
      "metadata": {
        "id": "eC_5GxP_xO7O"
      },
      "id": "eC_5GxP_xO7O"
    },
    {
      "cell_type": "code",
      "source": [
        "dataset2 = dataset2.groupby(['State']).agg({'Individuals_Affected':'sum'}).reset_index()"
      ],
      "metadata": {
        "id": "WiSHYlNF6JJ3"
      },
      "id": "WiSHYlNF6JJ3",
      "execution_count": 11,
      "outputs": []
    },
    {
      "cell_type": "code",
      "execution_count": 12,
      "id": "e9970db8",
      "metadata": {
        "scrolled": true,
        "colab": {
          "base_uri": "https://localhost:8080/",
          "height": 404
        },
        "id": "e9970db8",
        "outputId": "7b6ed8e8-724a-41d8-9a0b-6575b080de98"
      },
      "outputs": [
        {
          "output_type": "display_data",
          "data": {
            "text/plain": [
              "<Figure size 1080x432 with 1 Axes>"
            ],
            "image/png": "[encoded data removed]"
          },
          "metadata": {
            "needs_background": "light"
          }
        }
      ],
      "source": [
        "plt.bar(dataset2['State'], dataset2['Individuals_Affected'], width=1, bottom=None, align='center', data=None)\n",
        "plt.rcParams['figure.figsize'] = (22,5)\n",
        "plt.title('Pessoas afetadas por estado')\n",
        "plt.xlabel('ESTADO')\n",
        "plt.ylabel('PESSOAS AFETADAS')\n",
        "plt.show()"
      ]
    },
    {
      "cell_type": "markdown",
      "source": [
        "Com o gráfico de barras podemos identificar que os estados VA, CA, IL, NY e Fl têm os maiores números de brechas."
      ],
      "metadata": {
        "id": "h95rDSaTHgZB"
      },
      "id": "h95rDSaTHgZB"
    },
    {
      "cell_type": "markdown",
      "id": "50af6b1b",
      "metadata": {
        "id": "50af6b1b"
      },
      "source": [
        "### Scatter plot"
      ]
    },
    {
      "cell_type": "markdown",
      "source": [
        "Vamos visualizar a demora para divulgar uma brecha em cada empresa"
      ],
      "metadata": {
        "id": "Z0CDhzT7H6Gu"
      },
      "id": "Z0CDhzT7H6Gu"
    },
    {
      "cell_type": "code",
      "source": [
        "dataset4['Date_Posted_or_Updated'] = pd.to_datetime(dataset4['Date_Posted_or_Updated'])\n",
        "dataset4['breach_start'] = pd.to_datetime(dataset4['breach_start'])"
      ],
      "metadata": {
        "id": "vCmasT5JbQzv"
      },
      "id": "vCmasT5JbQzv",
      "execution_count": 13,
      "outputs": []
    },
    {
      "cell_type": "code",
      "source": [
        "dataset4['duration'] = dataset4['Date_Posted_or_Updated'] - dataset4['breach_start']\n",
        "dataset4['duration'] = (dataset4['duration'].dt.days)"
      ],
      "metadata": {
        "id": "xJodAgMidiVc"
      },
      "id": "xJodAgMidiVc",
      "execution_count": 14,
      "outputs": []
    },
    {
      "cell_type": "code",
      "execution_count": 15,
      "id": "e897b624",
      "metadata": {
        "colab": {
          "base_uri": "https://localhost:8080/",
          "height": 419
        },
        "id": "e897b624",
        "outputId": "09e02eec-cf11-447f-c375-23d3436c6db2"
      },
      "outputs": [
        {
          "output_type": "execute_result",
          "data": {
            "text/plain": [
              "[]"
            ]
          },
          "metadata": {},
          "execution_count": 15
        },
        {
          "output_type": "stream",
          "name": "stderr",
          "text": [
            "/usr/local/lib/python3.8/dist-packages/matplotlib/backends/backend_agg.py:214: RuntimeWarning: Glyph 25 missing from current font.\n",
            "  font.set_text(s, 0.0, flags=flags)\n",
            "/usr/local/lib/python3.8/dist-packages/matplotlib/backends/backend_agg.py:183: RuntimeWarning: Glyph 25 missing from current font.\n",
            "  font.set_text(s, 0, flags=flags)\n"
          ]
        },
        {
          "output_type": "display_data",
          "data": {
            "text/plain": [
              "<Figure size 1584x360 with 1 Axes>"
            ],
            "image/png": "[encoded data removed]"
          },
          "metadata": {
            "needs_background": "light"
          }
        }
      ],
      "source": [
        "plt.scatter(dataset4['Name_of_Covered_Entity'], dataset4['duration'])\n",
        "plt.rcParams['figure.figsize'] = (100,10)\n",
        "plt.title('Relação entre a demora para divulgar a brecha e a empresa')\n",
        "plt.xlabel('EMPRESA')\n",
        "plt.ylabel('DURAÇÃO [DIAS]')\n",
        "plt.plot()"
      ]
    },
    {
      "cell_type": "markdown",
      "source": [
        "A partir do gráfico de dispersão, podemos perceber qual é a relação entre duas variáveis. Onde há uma maior concentração de pontos, há uma maior relação de dependência entre as variáveis. Da mesma forma, onde há menos pontos, há uma menor relação entre as variáveis.\n",
        "\n",
        "Neste gráfico é possível verificar no eixo x todas as empresas (ao clicar sobre a figura é possível ler os nomes), e no eixo y a duração entre a data de início da brecha e quando ela foi divulgada ou atualizada.\n",
        "\n"
      ],
      "metadata": {
        "id": "8Pff5VAQICY3"
      },
      "id": "8Pff5VAQICY3"
    },
    {
      "cell_type": "markdown",
      "source": [
        "### Histograma"
      ],
      "metadata": {
        "id": "t6DJmKj3xTU9"
      },
      "id": "t6DJmKj3xTU9"
    },
    {
      "cell_type": "code",
      "execution_count": 16,
      "id": "ee85f4e6",
      "metadata": {
        "scrolled": true,
        "colab": {
          "base_uri": "https://localhost:8080/",
          "height": 221
        },
        "id": "ee85f4e6",
        "outputId": "ade84097-a38f-4c17-954d-b383fb6700f8"
      },
      "outputs": [
        {
          "output_type": "execute_result",
          "data": {
            "text/plain": [
              "[]"
            ]
          },
          "metadata": {},
          "execution_count": 16
        },
        {
          "output_type": "display_data",
          "data": {
            "text/plain": [
              "<Figure size 7200x720 with 1 Axes>"
            ],
            "image/png": "[encoded data removed]"
          },
          "metadata": {
            "needs_background": "light"
          }
        }
      ],
      "source": [
        "plt.hist(dataset5['State'], width=5.1)\n",
        "plt.rcParams['figure.figsize'] = (100,60)\n",
        "plt.title('Frequência de ataques de cada estado')\n",
        "plt.xlabel('ESTADO')\n",
        "plt.ylabel('FREQUÊNCIA')\n",
        "plt.plot()"
      ]
    },
    {
      "cell_type": "markdown",
      "source": [
        "Nesse histograma é possível observar a frequência com que cada estado sobre brechas, o que é diferente da quantidade de pessoas afetadas, como visto no gráfico de barras. "
      ],
      "metadata": {
        "id": "VR8fo104t_0s"
      },
      "id": "VR8fo104t_0s"
    }
  ],
  "metadata": {
    "kernelspec": {
      "display_name": "Python 3 (ipykernel)",
      "language": "python",
      "name": "python3"
    },
    "language_info": {
      "codemirror_mode": {
        "name": "ipython",
        "version": 3
      },
      "file_extension": ".py",
      "mimetype": "text/x-python",
      "name": "python",
      "nbconvert_exporter": "python",
      "pygments_lexer": "ipython3",
      "version": "3.9.7"
    },
    "latex_envs": {
      "LaTeX_envs_menu_present": true,
      "autoclose": false,
      "autocomplete": true,
      "bibliofile": "biblio.bib",
      "cite_by": "apalike",
      "current_citInitial": 1,
      "eqLabelWithNumbers": true,
      "eqNumInitial": 1,
      "hotkeys": {
        "equation": "Ctrl-E",
        "itemize": "Ctrl-I"
      },
      "labels_anchors": false,
      "latex_user_defs": false,
      "report_style_numbering": false,
      "user_envs_cfg": false
    },
    "toc": {
      "base_numbering": 1,
      "nav_menu": {},
      "number_sections": true,
      "sideBar": true,
      "skip_h1_title": false,
      "title_cell": "Table of Contents",
      "title_sidebar": "Contents",
      "toc_cell": false,
      "toc_position": {},
      "toc_section_display": true,
      "toc_window_display": false
    },
    "colab": {
      "provenance": [],
      "include_colab_link": true
    }
  },
  "nbformat": 4,
  "nbformat_minor": 5
}