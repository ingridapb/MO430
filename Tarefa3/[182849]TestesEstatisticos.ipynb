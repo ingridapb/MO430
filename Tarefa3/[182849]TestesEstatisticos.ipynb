{
  "cells": [
    {
      "cell_type": "markdown",
      "metadata": {
        "id": "view-in-github",
        "colab_type": "text"
      },
      "source": [
        "<a href=\"https://colab.research.google.com/github/ingridapb/MO430/blob/main/Tarefa3/%5B182849%5DTestesEstatisticos.ipynb\" target=\"_parent\"><img src=\"https://colab.research.google.com/assets/colab-badge.svg\" alt=\"Open In Colab\"/></a>"
      ]
    },
    {
      "cell_type": "markdown",
      "source": [
        "# **Tarefa 3 - Testes Estatísticos**\n",
        "**MO430**\n",
        "\n",
        "---\n",
        "\n",
        "Ingrid Alves de Paiva Barbosa\n",
        "\n",
        "RA: 182849\n"
      ],
      "metadata": {
        "id": "YR52JVaLp85A"
      },
      "id": "YR52JVaLp85A"
    },
    {
      "cell_type": "code",
      "execution_count": 1,
      "id": "a412bf8b",
      "metadata": {
        "id": "a412bf8b"
      },
      "outputs": [],
      "source": [
        "import numpy as np\n",
        "import scipy.stats as stats\n",
        "import pandas as pd\n",
        "import matplotlib.pyplot as plt\n",
        "import statistics"
      ]
    },
    {
      "cell_type": "code",
      "source": [
        "from google.colab import drive\n",
        "drive.mount('/content/drive')"
      ],
      "metadata": {
        "colab": {
          "base_uri": "https://localhost:8080/"
        },
        "id": "GBCSGJASo7M-",
        "outputId": "3fa762e6-a822-4956-e185-ed2781202d3b"
      },
      "id": "GBCSGJASo7M-",
      "execution_count": 2,
      "outputs": [
        {
          "output_type": "stream",
          "name": "stdout",
          "text": [
            "Mounted at /content/drive\n"
          ]
        }
      ]
    },
    {
      "cell_type": "code",
      "source": [
        "dataset_bp = pd.read_csv('/content/drive/MyDrive/MO430/datasets/bp.csv') #trocar o caminho do arquivo\n",
        "dataset_bp"
      ],
      "metadata": {
        "colab": {
          "base_uri": "https://localhost:8080/",
          "height": 424
        },
        "id": "AjxnCQwdo90t",
        "outputId": "2b86bad7-5d67-4cf4-c111-a7372b593901"
      },
      "id": "AjxnCQwdo90t",
      "execution_count": 3,
      "outputs": [
        {
          "output_type": "execute_result",
          "data": {
            "text/plain": [
              "     bp type\n",
              "0    68   No\n",
              "1    70  Yes\n",
              "2    82   No\n",
              "3    76   No\n",
              "4    60   No\n",
              "..   ..  ...\n",
              "195  58   No\n",
              "196  68  Yes\n",
              "197  70   No\n",
              "198  58   No\n",
              "199  62  Yes\n",
              "\n",
              "[200 rows x 2 columns]"
            ],
            "text/html": [
              "\n",
              "  <div id=\"df-eac299e7-a710-4c13-abce-58893331f246\">\n",
              "    <div class=\"colab-df-container\">\n",
              "      <div>\n",
              "<style scoped>\n",
              "    .dataframe tbody tr th:only-of-type {\n",
              "        vertical-align: middle;\n",
              "    }\n",
              "\n",
              "    .dataframe tbody tr th {\n",
              "        vertical-align: top;\n",
              "    }\n",
              "\n",
              "    .dataframe thead th {\n",
              "        text-align: right;\n",
              "    }\n",
              "</style>\n",
              "<table border=\"1\" class=\"dataframe\">\n",
              "  <thead>\n",
              "    <tr style=\"text-align: right;\">\n",
              "      <th></th>\n",
              "      <th>bp</th>\n",
              "      <th>type</th>\n",
              "    </tr>\n",
              "  </thead>\n",
              "  <tbody>\n",
              "    <tr>\n",
              "      <th>0</th>\n",
              "      <td>68</td>\n",
              "      <td>No</td>\n",
              "    </tr>\n",
              "    <tr>\n",
              "      <th>1</th>\n",
              "      <td>70</td>\n",
              "      <td>Yes</td>\n",
              "    </tr>\n",
              "    <tr>\n",
              "      <th>2</th>\n",
              "      <td>82</td>\n",
              "      <td>No</td>\n",
              "    </tr>\n",
              "    <tr>\n",
              "      <th>3</th>\n",
              "      <td>76</td>\n",
              "      <td>No</td>\n",
              "    </tr>\n",
              "    <tr>\n",
              "      <th>4</th>\n",
              "      <td>60</td>\n",
              "      <td>No</td>\n",
              "    </tr>\n",
              "    <tr>\n",
              "      <th>...</th>\n",
              "      <td>...</td>\n",
              "      <td>...</td>\n",
              "    </tr>\n",
              "    <tr>\n",
              "      <th>195</th>\n",
              "      <td>58</td>\n",
              "      <td>No</td>\n",
              "    </tr>\n",
              "    <tr>\n",
              "      <th>196</th>\n",
              "      <td>68</td>\n",
              "      <td>Yes</td>\n",
              "    </tr>\n",
              "    <tr>\n",
              "      <th>197</th>\n",
              "      <td>70</td>\n",
              "      <td>No</td>\n",
              "    </tr>\n",
              "    <tr>\n",
              "      <th>198</th>\n",
              "      <td>58</td>\n",
              "      <td>No</td>\n",
              "    </tr>\n",
              "    <tr>\n",
              "      <th>199</th>\n",
              "      <td>62</td>\n",
              "      <td>Yes</td>\n",
              "    </tr>\n",
              "  </tbody>\n",
              "</table>\n",
              "<p>200 rows × 2 columns</p>\n",
              "</div>\n",
              "      <button class=\"colab-df-convert\" onclick=\"convertToInteractive('df-eac299e7-a710-4c13-abce-58893331f246')\"\n",
              "              title=\"Convert this dataframe to an interactive table.\"\n",
              "              style=\"display:none;\">\n",
              "        \n",
              "  <svg xmlns=\"http://www.w3.org/2000/svg\" height=\"24px\"viewBox=\"0 0 24 24\"\n",
              "       width=\"24px\">\n",
              "    <path d=\"M0 0h24v24H0V0z\" fill=\"none\"/>\n",
              "    <path d=\"M18.56 5.44l.94 2.06.94-2.06 2.06-.94-2.06-.94-.94-2.06-.94 2.06-2.06.94zm-11 1L8.5 8.5l.94-2.06 2.06-.94-2.06-.94L8.5 2.5l-.94 2.06-2.06.94zm10 10l.94 2.06.94-2.06 2.06-.94-2.06-.94-.94-2.06-.94 2.06-2.06.94z\"/><path d=\"M17.41 7.96l-1.37-1.37c-.4-.4-.92-.59-1.43-.59-.52 0-1.04.2-1.43.59L10.3 9.45l-7.72 7.72c-.78.78-.78 2.05 0 2.83L4 21.41c.39.39.9.59 1.41.59.51 0 1.02-.2 1.41-.59l7.78-7.78 2.81-2.81c.8-.78.8-2.07 0-2.86zM5.41 20L4 18.59l7.72-7.72 1.47 1.35L5.41 20z\"/>\n",
              "  </svg>\n",
              "      </button>\n",
              "      \n",
              "  <style>\n",
              "    .colab-df-container {\n",
              "      display:flex;\n",
              "      flex-wrap:wrap;\n",
              "      gap: 12px;\n",
              "    }\n",
              "\n",
              "    .colab-df-convert {\n",
              "      background-color: #E8F0FE;\n",
              "      border: none;\n",
              "      border-radius: 50%;\n",
              "      cursor: pointer;\n",
              "      display: none;\n",
              "      fill: #1967D2;\n",
              "      height: 32px;\n",
              "      padding: 0 0 0 0;\n",
              "      width: 32px;\n",
              "    }\n",
              "\n",
              "    .colab-df-convert:hover {\n",
              "      background-color: #E2EBFA;\n",
              "      box-shadow: 0px 1px 2px rgba(60, 64, 67, 0.3), 0px 1px 3px 1px rgba(60, 64, 67, 0.15);\n",
              "      fill: #174EA6;\n",
              "    }\n",
              "\n",
              "    [theme=dark] .colab-df-convert {\n",
              "      background-color: #3B4455;\n",
              "      fill: #D2E3FC;\n",
              "    }\n",
              "\n",
              "    [theme=dark] .colab-df-convert:hover {\n",
              "      background-color: #434B5C;\n",
              "      box-shadow: 0px 1px 3px 1px rgba(0, 0, 0, 0.15);\n",
              "      filter: drop-shadow(0px 1px 2px rgba(0, 0, 0, 0.3));\n",
              "      fill: #FFFFFF;\n",
              "    }\n",
              "  </style>\n",
              "\n",
              "      <script>\n",
              "        const buttonEl =\n",
              "          document.querySelector('#df-eac299e7-a710-4c13-abce-58893331f246 button.colab-df-convert');\n",
              "        buttonEl.style.display =\n",
              "          google.colab.kernel.accessAllowed ? 'block' : 'none';\n",
              "\n",
              "        async function convertToInteractive(key) {\n",
              "          const element = document.querySelector('#df-eac299e7-a710-4c13-abce-58893331f246');\n",
              "          const dataTable =\n",
              "            await google.colab.kernel.invokeFunction('convertToInteractive',\n",
              "                                                     [key], {});\n",
              "          if (!dataTable) return;\n",
              "\n",
              "          const docLinkHtml = 'Like what you see? Visit the ' +\n",
              "            '<a target=\"_blank\" href=https://colab.research.google.com/notebooks/data_table.ipynb>data table notebook</a>'\n",
              "            + ' to learn more about interactive tables.';\n",
              "          element.innerHTML = '';\n",
              "          dataTable['output_type'] = 'display_data';\n",
              "          await google.colab.output.renderOutput(dataTable, element);\n",
              "          const docLink = document.createElement('div');\n",
              "          docLink.innerHTML = docLinkHtml;\n",
              "          element.appendChild(docLink);\n",
              "        }\n",
              "      </script>\n",
              "    </div>\n",
              "  </div>\n",
              "  "
            ]
          },
          "metadata": {},
          "execution_count": 3
        }
      ]
    },
    {
      "cell_type": "code",
      "source": [
        "dataset_paired = pd.read_csv('/content/drive/MyDrive/MO430/datasets/paired.csv')\n",
        "dataset_paired"
      ],
      "metadata": {
        "colab": {
          "base_uri": "https://localhost:8080/",
          "height": 457
        },
        "id": "okB8ZTB-pVq7",
        "outputId": "995c627b-b1ef-4c80-c3d0-e602a37b31ab"
      },
      "id": "okB8ZTB-pVq7",
      "execution_count": 4,
      "outputs": [
        {
          "output_type": "execute_result",
          "data": {
            "text/plain": [
              "             Clone  August  November\n",
              "0     Balsam_Spire     8.1      11.2\n",
              "1          Beaupre    10.0      16.3\n",
              "2        Hazendans    16.5      15.3\n",
              "3        Hoogvorst    13.6      15.6\n",
              "4         Raspalje     9.5      10.5\n",
              "5             Unal     8.3      15.5\n",
              "6   Columbia_River    18.3      12.7\n",
              "7    Fritzi_Pauley    13.3      11.1\n",
              "8        Trichobel     7.9      19.9\n",
              "9            Gaver     8.1      20.4\n",
              "10          Gibecq     8.9      14.2\n",
              "11           Primo    12.6      12.7\n",
              "12       Wolterson    13.4      36.8"
            ],
            "text/html": [
              "\n",
              "  <div id=\"df-ed27d30c-af0f-484c-a5a0-1acd6995e863\">\n",
              "    <div class=\"colab-df-container\">\n",
              "      <div>\n",
              "<style scoped>\n",
              "    .dataframe tbody tr th:only-of-type {\n",
              "        vertical-align: middle;\n",
              "    }\n",
              "\n",
              "    .dataframe tbody tr th {\n",
              "        vertical-align: top;\n",
              "    }\n",
              "\n",
              "    .dataframe thead th {\n",
              "        text-align: right;\n",
              "    }\n",
              "</style>\n",
              "<table border=\"1\" class=\"dataframe\">\n",
              "  <thead>\n",
              "    <tr style=\"text-align: right;\">\n",
              "      <th></th>\n",
              "      <th>Clone</th>\n",
              "      <th>August</th>\n",
              "      <th>November</th>\n",
              "    </tr>\n",
              "  </thead>\n",
              "  <tbody>\n",
              "    <tr>\n",
              "      <th>0</th>\n",
              "      <td>Balsam_Spire</td>\n",
              "      <td>8.1</td>\n",
              "      <td>11.2</td>\n",
              "    </tr>\n",
              "    <tr>\n",
              "      <th>1</th>\n",
              "      <td>Beaupre</td>\n",
              "      <td>10.0</td>\n",
              "      <td>16.3</td>\n",
              "    </tr>\n",
              "    <tr>\n",
              "      <th>2</th>\n",
              "      <td>Hazendans</td>\n",
              "      <td>16.5</td>\n",
              "      <td>15.3</td>\n",
              "    </tr>\n",
              "    <tr>\n",
              "      <th>3</th>\n",
              "      <td>Hoogvorst</td>\n",
              "      <td>13.6</td>\n",
              "      <td>15.6</td>\n",
              "    </tr>\n",
              "    <tr>\n",
              "      <th>4</th>\n",
              "      <td>Raspalje</td>\n",
              "      <td>9.5</td>\n",
              "      <td>10.5</td>\n",
              "    </tr>\n",
              "    <tr>\n",
              "      <th>5</th>\n",
              "      <td>Unal</td>\n",
              "      <td>8.3</td>\n",
              "      <td>15.5</td>\n",
              "    </tr>\n",
              "    <tr>\n",
              "      <th>6</th>\n",
              "      <td>Columbia_River</td>\n",
              "      <td>18.3</td>\n",
              "      <td>12.7</td>\n",
              "    </tr>\n",
              "    <tr>\n",
              "      <th>7</th>\n",
              "      <td>Fritzi_Pauley</td>\n",
              "      <td>13.3</td>\n",
              "      <td>11.1</td>\n",
              "    </tr>\n",
              "    <tr>\n",
              "      <th>8</th>\n",
              "      <td>Trichobel</td>\n",
              "      <td>7.9</td>\n",
              "      <td>19.9</td>\n",
              "    </tr>\n",
              "    <tr>\n",
              "      <th>9</th>\n",
              "      <td>Gaver</td>\n",
              "      <td>8.1</td>\n",
              "      <td>20.4</td>\n",
              "    </tr>\n",
              "    <tr>\n",
              "      <th>10</th>\n",
              "      <td>Gibecq</td>\n",
              "      <td>8.9</td>\n",
              "      <td>14.2</td>\n",
              "    </tr>\n",
              "    <tr>\n",
              "      <th>11</th>\n",
              "      <td>Primo</td>\n",
              "      <td>12.6</td>\n",
              "      <td>12.7</td>\n",
              "    </tr>\n",
              "    <tr>\n",
              "      <th>12</th>\n",
              "      <td>Wolterson</td>\n",
              "      <td>13.4</td>\n",
              "      <td>36.8</td>\n",
              "    </tr>\n",
              "  </tbody>\n",
              "</table>\n",
              "</div>\n",
              "      <button class=\"colab-df-convert\" onclick=\"convertToInteractive('df-ed27d30c-af0f-484c-a5a0-1acd6995e863')\"\n",
              "              title=\"Convert this dataframe to an interactive table.\"\n",
              "              style=\"display:none;\">\n",
              "        \n",
              "  <svg xmlns=\"http://www.w3.org/2000/svg\" height=\"24px\"viewBox=\"0 0 24 24\"\n",
              "       width=\"24px\">\n",
              "    <path d=\"M0 0h24v24H0V0z\" fill=\"none\"/>\n",
              "    <path d=\"M18.56 5.44l.94 2.06.94-2.06 2.06-.94-2.06-.94-.94-2.06-.94 2.06-2.06.94zm-11 1L8.5 8.5l.94-2.06 2.06-.94-2.06-.94L8.5 2.5l-.94 2.06-2.06.94zm10 10l.94 2.06.94-2.06 2.06-.94-2.06-.94-.94-2.06-.94 2.06-2.06.94z\"/><path d=\"M17.41 7.96l-1.37-1.37c-.4-.4-.92-.59-1.43-.59-.52 0-1.04.2-1.43.59L10.3 9.45l-7.72 7.72c-.78.78-.78 2.05 0 2.83L4 21.41c.39.39.9.59 1.41.59.51 0 1.02-.2 1.41-.59l7.78-7.78 2.81-2.81c.8-.78.8-2.07 0-2.86zM5.41 20L4 18.59l7.72-7.72 1.47 1.35L5.41 20z\"/>\n",
              "  </svg>\n",
              "      </button>\n",
              "      \n",
              "  <style>\n",
              "    .colab-df-container {\n",
              "      display:flex;\n",
              "      flex-wrap:wrap;\n",
              "      gap: 12px;\n",
              "    }\n",
              "\n",
              "    .colab-df-convert {\n",
              "      background-color: #E8F0FE;\n",
              "      border: none;\n",
              "      border-radius: 50%;\n",
              "      cursor: pointer;\n",
              "      display: none;\n",
              "      fill: #1967D2;\n",
              "      height: 32px;\n",
              "      padding: 0 0 0 0;\n",
              "      width: 32px;\n",
              "    }\n",
              "\n",
              "    .colab-df-convert:hover {\n",
              "      background-color: #E2EBFA;\n",
              "      box-shadow: 0px 1px 2px rgba(60, 64, 67, 0.3), 0px 1px 3px 1px rgba(60, 64, 67, 0.15);\n",
              "      fill: #174EA6;\n",
              "    }\n",
              "\n",
              "    [theme=dark] .colab-df-convert {\n",
              "      background-color: #3B4455;\n",
              "      fill: #D2E3FC;\n",
              "    }\n",
              "\n",
              "    [theme=dark] .colab-df-convert:hover {\n",
              "      background-color: #434B5C;\n",
              "      box-shadow: 0px 1px 3px 1px rgba(0, 0, 0, 0.15);\n",
              "      filter: drop-shadow(0px 1px 2px rgba(0, 0, 0, 0.3));\n",
              "      fill: #FFFFFF;\n",
              "    }\n",
              "  </style>\n",
              "\n",
              "      <script>\n",
              "        const buttonEl =\n",
              "          document.querySelector('#df-ed27d30c-af0f-484c-a5a0-1acd6995e863 button.colab-df-convert');\n",
              "        buttonEl.style.display =\n",
              "          google.colab.kernel.accessAllowed ? 'block' : 'none';\n",
              "\n",
              "        async function convertToInteractive(key) {\n",
              "          const element = document.querySelector('#df-ed27d30c-af0f-484c-a5a0-1acd6995e863');\n",
              "          const dataTable =\n",
              "            await google.colab.kernel.invokeFunction('convertToInteractive',\n",
              "                                                     [key], {});\n",
              "          if (!dataTable) return;\n",
              "\n",
              "          const docLinkHtml = 'Like what you see? Visit the ' +\n",
              "            '<a target=\"_blank\" href=https://colab.research.google.com/notebooks/data_table.ipynb>data table notebook</a>'\n",
              "            + ' to learn more about interactive tables.';\n",
              "          element.innerHTML = '';\n",
              "          dataTable['output_type'] = 'display_data';\n",
              "          await google.colab.output.renderOutput(dataTable, element);\n",
              "          const docLink = document.createElement('div');\n",
              "          docLink.innerHTML = docLinkHtml;\n",
              "          element.appendChild(docLink);\n",
              "        }\n",
              "      </script>\n",
              "    </div>\n",
              "  </div>\n",
              "  "
            ]
          },
          "metadata": {},
          "execution_count": 4
        }
      ]
    },
    {
      "cell_type": "markdown",
      "id": "1bb699fc",
      "metadata": {
        "id": "1bb699fc"
      },
      "source": [
        "# Parte 1\n",
        "\n",
        "O arquivo bp.csv contem dados sobre a pressão sanguínea (bp) e se a pessoa é ou não diabética (type) (diabetico é type = Yes). Use os seguintes testes e responda os itens abaixo:\n",
        "\n",
        "- Teste t\n",
        "\n",
        "- Wilcoxon rank sum\n"
      ]
    },
    {
      "cell_type": "markdown",
      "source": [
        "1. Reporte o p-valor da comparação entre a pressão sangüínea de pessoas diabéticas ou não."
      ],
      "metadata": {
        "id": "UvupS-N1WI-A"
      },
      "id": "UvupS-N1WI-A"
    },
    {
      "cell_type": "code",
      "source": [
        "bp1 = dataset_bp.loc[(dataset_bp[\"type\"]==\"Yes\")]\n",
        "bp2 = dataset_bp.loc[(dataset_bp[\"type\"]==\"No\")]\n",
        "\n",
        "stats.ttest_ind(bp1[\"bp\"],bp2[\"bp\"])\n"
      ],
      "metadata": {
        "colab": {
          "base_uri": "https://localhost:8080/"
        },
        "id": "dy2V4DgOWUJi",
        "outputId": "e0b817b7-dd71-4303-c96b-292a44ddc92a"
      },
      "id": "dy2V4DgOWUJi",
      "execution_count": 5,
      "outputs": [
        {
          "output_type": "execute_result",
          "data": {
            "text/plain": [
              "Ttest_indResult(statistic=3.001495202122035, pvalue=0.0030323591864622732)"
            ]
          },
          "metadata": {},
          "execution_count": 5
        }
      ]
    },
    {
      "cell_type": "code",
      "source": [
        "stat, p = stats.ranksums(bp1[\"bp\"],bp2[\"bp\"])\n",
        "print('stat=%.3f, p=%.3f' % (stat, p))"
      ],
      "metadata": {
        "colab": {
          "base_uri": "https://localhost:8080/"
        },
        "id": "kZHFN8TVbI3J",
        "outputId": "2066929d-4e14-4d7e-b4f8-16360effdefc"
      },
      "id": "kZHFN8TVbI3J",
      "execution_count": 6,
      "outputs": [
        {
          "output_type": "stream",
          "name": "stdout",
          "text": [
            "stat=3.046, p=0.002\n"
          ]
        }
      ]
    },
    {
      "cell_type": "markdown",
      "source": [
        "Um teste estatístico informa a probabilidade de que os dados sejam tão (ou mais) diferentes quanto eles são tendo em vista que eles vieram da mesma fonte de dados. Esse valor é chamado de p-valor ou p-value\n",
        "\n",
        "Se a probabilidade é alta então é provável que a diferença que voce encontrou na média (ou outras medidas - mais abaixo) é apenas devido a sorte (ruído de amostragem).\n",
        "\n",
        "Se a probabilidade é baixa então voce pode dizer que é pouco provável que os dados vieram de uma mesma fonte, ou se a probabilidade é baixa voce pode dizer que é bem provável que os dados realmente vieram de 2 fontes diferentes.\n",
        "\n",
        "Tradicionalmente, na maioria das Ciências e em particular em Computação usa-se o valor de 0.05 de p-valor para afirmar que a diferença é estatisticamente significante.\n",
        "\n",
        "Neste caso o p-valor foi de 0.003 pelo t-test e 0.002 pelo Wilcoxon rank sum, então é muito provável que estes dados tenham vindos de fontes diferentes."
      ],
      "metadata": {
        "id": "j1k7YUT-aS49"
      },
      "id": "j1k7YUT-aS49"
    },
    {
      "cell_type": "markdown",
      "source": [
        "\n",
        "2. Qual tem a maior pressão média? E maior pressão mediana?"
      ],
      "metadata": {
        "id": "iRlzwI4TWKx-"
      },
      "id": "iRlzwI4TWKx-"
    },
    {
      "cell_type": "code",
      "source": [
        "np.mean(bp1['bp']) # média com diabetes"
      ],
      "metadata": {
        "colab": {
          "base_uri": "https://localhost:8080/"
        },
        "id": "1zLs8ZdFZ8D0",
        "outputId": "343ac689-4240-4131-91ee-f9b87b27ea74"
      },
      "id": "1zLs8ZdFZ8D0",
      "execution_count": 7,
      "outputs": [
        {
          "output_type": "execute_result",
          "data": {
            "text/plain": [
              "74.58823529411765"
            ]
          },
          "metadata": {},
          "execution_count": 7
        }
      ]
    },
    {
      "cell_type": "code",
      "source": [
        "np.mean(bp2['bp']) # média sem diabetes"
      ],
      "metadata": {
        "colab": {
          "base_uri": "https://localhost:8080/"
        },
        "id": "tb74xajAaBB6",
        "outputId": "eaf8e1e7-481d-446f-aded-c7b934d12a1b"
      },
      "id": "tb74xajAaBB6",
      "execution_count": 8,
      "outputs": [
        {
          "output_type": "execute_result",
          "data": {
            "text/plain": [
              "69.54545454545455"
            ]
          },
          "metadata": {},
          "execution_count": 8
        }
      ]
    },
    {
      "cell_type": "code",
      "source": [
        "np.median(bp1['bp']) # mediana com diabetes"
      ],
      "metadata": {
        "colab": {
          "base_uri": "https://localhost:8080/"
        },
        "id": "sHzEMEoXaJXR",
        "outputId": "7c02c922-4115-4d1a-c4d0-9610fd1f4e2a"
      },
      "id": "sHzEMEoXaJXR",
      "execution_count": 9,
      "outputs": [
        {
          "output_type": "execute_result",
          "data": {
            "text/plain": [
              "76.0"
            ]
          },
          "metadata": {},
          "execution_count": 9
        }
      ]
    },
    {
      "cell_type": "code",
      "source": [
        "np.median(bp2['bp']) # mediana sem diabetes"
      ],
      "metadata": {
        "colab": {
          "base_uri": "https://localhost:8080/"
        },
        "id": "e9HhlFOPaMpu",
        "outputId": "9a4c0b2f-e314-4047-cd2d-4c631aae146c"
      },
      "id": "e9HhlFOPaMpu",
      "execution_count": 10,
      "outputs": [
        {
          "output_type": "execute_result",
          "data": {
            "text/plain": [
              "70.0"
            ]
          },
          "metadata": {},
          "execution_count": 10
        }
      ]
    },
    {
      "cell_type": "markdown",
      "source": [
        "A média e a mediana para pessoas com diabetes é apenas um pouco maior do que a média e a mediana para pessoas sem diabetes. Sem o p-valor não seria possível afirmar se a diferença é real ou apenas ruído, mas como temos o p-valor, sabemos que é real."
      ],
      "metadata": {
        "id": "CDsIqo0zWRvN"
      },
      "id": "CDsIqo0zWRvN"
    },
    {
      "cell_type": "markdown",
      "source": [
        "3. A diferença é significativa?\n",
        "\n",
        "Como o p-valor ficou bem abaixo de 0.05, sim, a diferença é estatisticamente significante."
      ],
      "metadata": {
        "id": "Te6gGCH_WNM4"
      },
      "id": "Te6gGCH_WNM4"
    },
    {
      "cell_type": "markdown",
      "source": [
        "4. Discuta a diferença dos p-valores. Quais dos 2 testes você acha mais apropriado nesse caso?"
      ],
      "metadata": {
        "id": "d-4mht6dWPL-"
      },
      "id": "d-4mht6dWPL-"
    },
    {
      "cell_type": "markdown",
      "id": "231e51d5",
      "metadata": {
        "id": "231e51d5"
      },
      "source": [
        "Vamos gerar um histograma para verificar se os dados se assemelham a uma distribuição normal."
      ]
    },
    {
      "cell_type": "code",
      "execution_count": 11,
      "id": "0829291f",
      "metadata": {
        "colab": {
          "base_uri": "https://localhost:8080/",
          "height": 281
        },
        "id": "0829291f",
        "outputId": "f07eee2d-c6d8-4aaa-a51b-0f95a7bc4a03"
      },
      "outputs": [
        {
          "output_type": "display_data",
          "data": {
            "text/plain": [
              "<Figure size 432x288 with 1 Axes>"
            ],
            "image/png": "[encoded data removed]"
          },
          "metadata": {
            "needs_background": "light"
          }
        }
      ],
      "source": [
        "plt.hist(bp1['bp'], bins='auto')\n",
        "plt.title(\"Histograma da População\")\n",
        "plt.show()"
      ]
    },
    {
      "cell_type": "code",
      "source": [
        "plt.hist(bp2['bp'], bins='auto')\n",
        "plt.title(\"Histograma da População\")\n",
        "plt.show()"
      ],
      "metadata": {
        "colab": {
          "base_uri": "https://localhost:8080/",
          "height": 281
        },
        "id": "CAtOuQYYqaGe",
        "outputId": "d102f7bd-2230-4a55-ba8d-8fe107a9eaf6"
      },
      "id": "CAtOuQYYqaGe",
      "execution_count": 12,
      "outputs": [
        {
          "output_type": "display_data",
          "data": {
            "text/plain": [
              "<Figure size 432x288 with 1 Axes>"
            ],
            "image/png": "[encoded data removed]"
          },
          "metadata": {
            "needs_background": "light"
          }
        }
      ]
    },
    {
      "cell_type": "markdown",
      "metadata": {
        "id": "R4teq9N5cI4p"
      },
      "source": [
        "O conjunto com diabetes não tem distribuição normal, já o conjunto sem diabetes se assemelha á uma distribuição normal. Quando os parâmetros de distribuição não são conhecido, o teste-t não é o mais adequado, por essa razão, neste caso a melhor opção é o teste Wilcoxon rank sums."
      ],
      "id": "R4teq9N5cI4p"
    },
    {
      "cell_type": "markdown",
      "source": [
        "# Parte 2\n",
        "\n",
        "O arquivo paired.csv contém dados sobre duas medições: em Agosto e em Novembro em 13 lugares diferentes.\n",
        "\n",
        "Use os seguintes testes e responda os itens abaixo:\n",
        "\n",
        "- Test t pareado\n",
        "\n",
        "- Wilcoxon signed rank."
      ],
      "metadata": {
        "id": "XTpMROq7dpHy"
      },
      "id": "XTpMROq7dpHy"
    },
    {
      "cell_type": "markdown",
      "source": [
        "1. Qual o mês com maior média e maior mediana?"
      ],
      "metadata": {
        "id": "or1Q8u1Xdu2L"
      },
      "id": "or1Q8u1Xdu2L"
    },
    {
      "cell_type": "code",
      "source": [
        "mean_august = dataset_paired[\"August\"].mean()\n",
        "\n",
        "mean_august"
      ],
      "metadata": {
        "colab": {
          "base_uri": "https://localhost:8080/"
        },
        "id": "uTIXet_hgjhm",
        "outputId": "7cd60988-563c-41f6-b281-1c1c2e0b7c9b"
      },
      "id": "uTIXet_hgjhm",
      "execution_count": 13,
      "outputs": [
        {
          "output_type": "execute_result",
          "data": {
            "text/plain": [
              "11.423076923076925"
            ]
          },
          "metadata": {},
          "execution_count": 13
        }
      ]
    },
    {
      "cell_type": "code",
      "source": [
        "mean_november = dataset_paired[\"November\"].mean()\n",
        "\n",
        "mean_november"
      ],
      "metadata": {
        "colab": {
          "base_uri": "https://localhost:8080/"
        },
        "id": "iuuyFc4FguET",
        "outputId": "d83e1e9f-62b4-4dd8-9129-a0828a68bbc4"
      },
      "id": "iuuyFc4FguET",
      "execution_count": 14,
      "outputs": [
        {
          "output_type": "execute_result",
          "data": {
            "text/plain": [
              "16.323076923076922"
            ]
          },
          "metadata": {},
          "execution_count": 14
        }
      ]
    },
    {
      "cell_type": "code",
      "source": [
        "median_august = dataset_paired[\"August\"].median()\n",
        "\n",
        "median_august"
      ],
      "metadata": {
        "colab": {
          "base_uri": "https://localhost:8080/"
        },
        "id": "TtvTxCqLg6MI",
        "outputId": "f87be226-f9d8-436b-dadc-2681a1a5b471"
      },
      "id": "TtvTxCqLg6MI",
      "execution_count": 15,
      "outputs": [
        {
          "output_type": "execute_result",
          "data": {
            "text/plain": [
              "10.0"
            ]
          },
          "metadata": {},
          "execution_count": 15
        }
      ]
    },
    {
      "cell_type": "code",
      "source": [
        "median_november = dataset_paired[\"November\"].median()\n",
        "\n",
        "median_november"
      ],
      "metadata": {
        "colab": {
          "base_uri": "https://localhost:8080/"
        },
        "id": "ZnlarHD_g4BG",
        "outputId": "50982dcf-69a3-47ec-ce4c-d8f13dae51b5"
      },
      "id": "ZnlarHD_g4BG",
      "execution_count": 16,
      "outputs": [
        {
          "output_type": "execute_result",
          "data": {
            "text/plain": [
              "15.3"
            ]
          },
          "metadata": {},
          "execution_count": 16
        }
      ]
    },
    {
      "cell_type": "markdown",
      "source": [
        "O mês que possuí a maior média e a maior mediana é Novembro."
      ],
      "metadata": {
        "id": "zrJqizVPhC1m"
      },
      "id": "zrJqizVPhC1m"
    },
    {
      "cell_type": "markdown",
      "source": [
        "2. A diferença é significativa?\n"
      ],
      "metadata": {
        "id": "y0rFCs9YdxOW"
      },
      "id": "y0rFCs9YdxOW"
    },
    {
      "cell_type": "code",
      "source": [
        "from scipy.stats import ttest_rel\n",
        "stat, p = ttest_rel(dataset_paired[\"August\"], dataset_paired[\"November\"])\n",
        "print('stat=%.3f, p=%.3f' % (stat, p))"
      ],
      "metadata": {
        "colab": {
          "base_uri": "https://localhost:8080/"
        },
        "id": "rnCCd9Svd2mI",
        "outputId": "0d6284fa-d70a-49c3-cec7-9518c42d6604"
      },
      "id": "rnCCd9Svd2mI",
      "execution_count": 17,
      "outputs": [
        {
          "output_type": "stream",
          "name": "stdout",
          "text": [
            "stat=-2.309, p=0.040\n"
          ]
        }
      ]
    },
    {
      "cell_type": "code",
      "source": [
        "from scipy.stats import wilcoxon\n",
        "stat, p = wilcoxon(dataset_paired[\"August\"], dataset_paired[\"November\"])\n",
        "print('stat=%.3f, p=%.3f' % (stat, p))"
      ],
      "metadata": {
        "colab": {
          "base_uri": "https://localhost:8080/"
        },
        "id": "rbGZHPtojoh7",
        "outputId": "dec8c822-36eb-4f0e-846c-e4cf4f00c13f"
      },
      "id": "rbGZHPtojoh7",
      "execution_count": 18,
      "outputs": [
        {
          "output_type": "stream",
          "name": "stdout",
          "text": [
            "stat=16.000, p=0.040\n"
          ]
        }
      ]
    },
    {
      "cell_type": "markdown",
      "source": [
        "Partindo do princípio que qualquer valor menos que 0.05 é cosiderado significativo, sim, há diferença estatisticamente significativa entre os dois conjuntos de dados (meses de Agosto e Novembro)."
      ],
      "metadata": {
        "id": "KU8rPZivj3yp"
      },
      "id": "KU8rPZivj3yp"
    },
    {
      "cell_type": "markdown",
      "source": [
        "3. Discuta a diferença dos p-valores. Quais dos 2 testes você acha mais apropriado nesse caso?"
      ],
      "metadata": {
        "id": "EVS9rGKcdzTS"
      },
      "id": "EVS9rGKcdzTS"
    },
    {
      "cell_type": "code",
      "source": [
        "plt.hist(dataset_paired[\"August\"], bins='auto')\n",
        "plt.title(\"Histograma da População\")\n",
        "plt.show()"
      ],
      "metadata": {
        "colab": {
          "base_uri": "https://localhost:8080/",
          "height": 281
        },
        "id": "ou_q8dj_d3Fu",
        "outputId": "3b8cf82f-4616-4e9c-eb09-42cabfebedca"
      },
      "id": "ou_q8dj_d3Fu",
      "execution_count": 19,
      "outputs": [
        {
          "output_type": "display_data",
          "data": {
            "text/plain": [
              "<Figure size 432x288 with 1 Axes>"
            ],
            "image/png": "[encoded data removed]"
          },
          "metadata": {
            "needs_background": "light"
          }
        }
      ]
    },
    {
      "cell_type": "code",
      "source": [
        "plt.hist(dataset_paired[\"November\"], bins='auto')\n",
        "plt.title(\"Histograma da População\")\n",
        "plt.show()"
      ],
      "metadata": {
        "colab": {
          "base_uri": "https://localhost:8080/",
          "height": 281
        },
        "id": "1HA_TO5WkJMg",
        "outputId": "67093a5a-26b4-49a8-97f6-09660b4a6b27"
      },
      "id": "1HA_TO5WkJMg",
      "execution_count": 20,
      "outputs": [
        {
          "output_type": "display_data",
          "data": {
            "text/plain": [
              "<Figure size 432x288 with 1 Axes>"
            ],
            "image/png": "[encoded data removed]"
          },
          "metadata": {
            "needs_background": "light"
          }
        }
      ]
    },
    {
      "cell_type": "markdown",
      "source": [
        "Nenhum dos dois conjuntos de dados possuem distribuição normal, ou seja, ambos são não-paramétricos. Por essa razão, o melhor teste a ser usado é o Wilcoxon signed rank."
      ],
      "metadata": {
        "id": "x3VzlyQYkNAk"
      },
      "id": "x3VzlyQYkNAk"
    },
    {
      "cell_type": "markdown",
      "source": [
        "# Parte 3\n",
        "\n",
        "Use os dados (não pareados) do dataset bp.csv\n",
        "\n",
        "1. Gere o intervalo de confiança para a pressão sangüínea dos pacientes com diabetes e sem diabetes (intervalo de 95% de confiança) usando o método de bootstrap"
      ],
      "metadata": {
        "id": "l0y-6scjlph4"
      },
      "id": "l0y-6scjlph4"
    },
    {
      "cell_type": "code",
      "source": [
        "p1 = (bp1[\"bp\"],) \n",
        "bootstrap_ci = stats.bootstrap(p1, np.mean, confidence_level=0.95,\n",
        "                         random_state=1, method='BCa')\n",
        "\n",
        "#IC 95% \n",
        "print(bootstrap_ci.confidence_interval)"
      ],
      "metadata": {
        "colab": {
          "base_uri": "https://localhost:8080/"
        },
        "id": "mgv_9LGOmEkJ",
        "outputId": "73d6db6f-ce67-497f-da28-58677cb9bb69"
      },
      "id": "mgv_9LGOmEkJ",
      "execution_count": 21,
      "outputs": [
        {
          "output_type": "stream",
          "name": "stdout",
          "text": [
            "ConfidenceInterval(low=71.77941176470588, high=77.29411764705883)\n"
          ]
        }
      ]
    },
    {
      "cell_type": "code",
      "source": [
        "p2 = (bp2[\"bp\"],) \n",
        "bootstrap_ci = stats.bootstrap(p2, np.mean, confidence_level=0.95,\n",
        "                         random_state=1, method='BCa')\n",
        "\n",
        "#IC 95% \n",
        "print(bootstrap_ci.confidence_interval)"
      ],
      "metadata": {
        "colab": {
          "base_uri": "https://localhost:8080/"
        },
        "id": "oCAYBKmLmvcl",
        "outputId": "37adc541-75e4-4d55-f484-e0d1da144c74"
      },
      "id": "oCAYBKmLmvcl",
      "execution_count": 22,
      "outputs": [
        {
          "output_type": "stream",
          "name": "stdout",
          "text": [
            "ConfidenceInterval(low=67.6590909090909, high=71.47727272727273)\n"
          ]
        }
      ]
    },
    {
      "cell_type": "markdown",
      "source": [
        "2. Teste Visual:  Há intersecção entre os intervalos de confiança dos 2 conjuntos de dados acima (com diabetes e sem diabetes)? Isso está de acordo com o teste de diferença significativa entre eles feito na questão 1?"
      ],
      "metadata": {
        "id": "1KrmMC08lruI"
      },
      "id": "1KrmMC08lruI"
    },
    {
      "cell_type": "markdown",
      "source": [
        "Não há interseção entre os intervalos de confiança de pessoas com diabetes e sem diabetes. \n",
        "\n",
        "Na questão um foi encontrado um p-valor < 0.05. Por essa razão foi considerado que os dois conjuntos de dados (com diabetes e sem diabetes) faziam parte de fontes de dados diferentes. O fato de não haver intersecção entre os conjuntos reforça esta afirmação."
      ],
      "metadata": {
        "id": "fMC_HqDnnFtL"
      },
      "id": "fMC_HqDnnFtL"
    },
    {
      "cell_type": "markdown",
      "source": [
        "3. Calcule o Cohen D com o pooled standard deviation para a diferença entre a pressão sangüínea de pacientes com e sem diabetes."
      ],
      "metadata": {
        "id": "KWQfM8qklwHn"
      },
      "id": "KWQfM8qklwHn"
    },
    {
      "cell_type": "code",
      "source": [
        "from math import sqrt\n",
        " \n",
        "# function to calculate Cohen's d for independent samples\n",
        "def cohend(d1, d2):\n",
        "\t# calculate the size of samples\n",
        "\tn1, n2 = len(d1), len(d2)\n",
        "\t# calculate the variance of the samples\n",
        "\ts1, s2 = np.var(d1, ddof=1), np.var(d2, ddof=1)\n",
        "\t# calculate the pooled standard deviation\n",
        "\ts = sqrt(((n1 - 1) * s1 + (n2 - 1) * s2) / (n1 + n2 - 2))\n",
        "\t# calculate the means of the samples\n",
        "\tu1, u2 = np.mean(d1), np.mean(d2)\n",
        "\t# calculate the effect size\n",
        "\treturn (u1 - u2) / s\n",
        " \n",
        "# calculate cohen's d\n",
        "d = cohend(bp1[\"bp\"], bp2[\"bp\"])\n",
        "print('Cohens d: %.3f' % d)"
      ],
      "metadata": {
        "colab": {
          "base_uri": "https://localhost:8080/"
        },
        "id": "UZD1vtnbnNR5",
        "outputId": "98db591a-1d5e-4c30-ba65-805a88facedc"
      },
      "id": "UZD1vtnbnNR5",
      "execution_count": 23,
      "outputs": [
        {
          "output_type": "stream",
          "name": "stdout",
          "text": [
            "Cohens d: 0.448\n"
          ]
        }
      ]
    },
    {
      "cell_type": "markdown",
      "source": [
        "4. Com base nos testes, intervalos de confiança, etc realizados acima sobre o dataset bp.csv, qual a sua conclusão sobre pressão arterial em pacientes com ou sem diabetes?"
      ],
      "metadata": {
        "id": "Hi118pfNly-d"
      },
      "id": "Hi118pfNly-d"
    },
    {
      "cell_type": "markdown",
      "source": [
        "Após todos os testes realizados, a conclusão é que não há relação de dependência entre o valor da pressão arterial e a existência ou não de diabetes. Ou seja, apenas observando apenas o valor da pressão arterial, não é possível afirmar se a pessoa possui ou não diabetes."
      ],
      "metadata": {
        "id": "bJiVIkKjoPRs"
      },
      "id": "bJiVIkKjoPRs"
    }
  ],
  "metadata": {
    "kernelspec": {
      "display_name": "Python 3 (ipykernel)",
      "language": "python",
      "name": "python3"
    },
    "language_info": {
      "codemirror_mode": {
        "name": "ipython",
        "version": 3
      },
      "file_extension": ".py",
      "mimetype": "text/x-python",
      "name": "python",
      "nbconvert_exporter": "python",
      "pygments_lexer": "ipython3",
      "version": "3.9.7"
    },
    "latex_envs": {
      "LaTeX_envs_menu_present": true,
      "autoclose": false,
      "autocomplete": true,
      "bibliofile": "biblio.bib",
      "cite_by": "apalike",
      "current_citInitial": 1,
      "eqLabelWithNumbers": true,
      "eqNumInitial": 1,
      "hotkeys": {
        "equation": "Ctrl-E",
        "itemize": "Ctrl-I"
      },
      "labels_anchors": false,
      "latex_user_defs": false,
      "report_style_numbering": false,
      "user_envs_cfg": false
    },
    "toc": {
      "base_numbering": 1,
      "nav_menu": {},
      "number_sections": true,
      "sideBar": true,
      "skip_h1_title": false,
      "title_cell": "Table of Contents",
      "title_sidebar": "Contents",
      "toc_cell": false,
      "toc_position": {},
      "toc_section_display": true,
      "toc_window_display": true
    },
    "colab": {
      "provenance": [],
      "include_colab_link": true
    }
  },
  "nbformat": 4,
  "nbformat_minor": 5
}